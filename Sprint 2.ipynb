{
 "cells": [
  {
   "cell_type": "code",
   "execution_count": 1,
   "metadata": {},
   "outputs": [
    {
     "data": {
      "text/plain": [
       "['How does #covid19 remain undetected for over 100 days in NZ before community spread resurfaces?\\n\\nThere must be lots… https://t.co/5r0kru5znb',\n",
       " '#PACEofChange takes a research-led look at some of the key issues that #COVID19 is having on UK businesses.\\n\\nWhich… https://t.co/c971MQ9nz6',\n",
       " 'No problem, I think this whole situation with covid19 and the amount of lies the Tories are telling is making a lot… https://t.co/7cbqN8cO04',\n",
       " '550,000 additional children are falling victim to #wasting each month as a result of #COVID19.\\n\\nMillions of lives a… https://t.co/Rexsko9W91',\n",
       " 'Great to see targeted mental health support for the LGBT community in Birmingham during this stressful time. Have y… https://t.co/vwRLg5JtgQ',\n",
       " \"Health diplomacy is making scores around the world and changing global health as we know it. Here's what you need t… https://t.co/Ahpq09VBN8\",\n",
       " 'More care home visits allowed after relaxations in Scotland https://t.co/Bl0NcmkJ36 #carehome #COVID19 #Scotland']"
      ]
     },
     "execution_count": 1,
     "metadata": {},
     "output_type": "execute_result"
    }
   ],
   "source": [
    "import tweepy as tw\n",
    "from tweepy import OAuthHandler\n",
    "\n",
    "#Define Keys\n",
    "#Getting Authorization\n",
    "consumer_key = \"spSuq0PDWGi1AandJPas65AlS\"\n",
    "consumer_secret = \"EsYzbAMR5CiB9eV8CCwMVU64vwGuBkOnwlm79jriZQ7shanUKv\"\n",
    "access_token = \"3058122066-9H65v07om9wndbaRwng8ND4Dn6f2K6WRVwAeHr8\"\n",
    "access_token_secret = \"YuVzLXz7cbOydhilH3iK1nqt0R4lKF07nhqhcZhLswnlt\"\n",
    "\n",
    "#creating the authentication object.\n",
    "auth = OAuthHandler(consumer_key, consumer_secret)\n",
    "#Setting your access token and secret.\n",
    "auth.set_access_token(access_token, access_token_secret)\n",
    "#Creating an API object while passing in auth information.\n",
    "api = tw.API(auth)\n",
    "\n",
    "#Define the search term while excluding retweets variables.\n",
    "search_word = \"COVID19\"\n",
    "search_excl = search_word + \" -filter:retweets\"\n",
    "\n",
    "#Collect  tweets\n",
    "#.Cursor () used to search the tweets containing the searched word \"COVID19\".\n",
    "tweets = tw.Cursor(api.search,\n",
    "                   q=search_excl,\n",
    "                   lang=\"en\").items(7)\n",
    "#for each through all  tweets pulled.\n",
    "[tweet.text for tweet in tweets]"
   ]
  },
  {
   "cell_type": "code",
   "execution_count": 40,
   "metadata": {},
   "outputs": [
    {
     "data": {
      "text/html": [
       "<div>\n",
       "<style scoped>\n",
       "    .dataframe tbody tr th:only-of-type {\n",
       "        vertical-align: middle;\n",
       "    }\n",
       "\n",
       "    .dataframe tbody tr th {\n",
       "        vertical-align: top;\n",
       "    }\n",
       "\n",
       "    .dataframe thead th {\n",
       "        text-align: right;\n",
       "    }\n",
       "</style>\n",
       "<table border=\"1\" class=\"dataframe\">\n",
       "  <thead>\n",
       "    <tr style=\"text-align: right;\">\n",
       "      <th></th>\n",
       "      <th>user</th>\n",
       "      <th>Location</th>\n",
       "      <th>Text</th>\n",
       "      <th>Datetime</th>\n",
       "    </tr>\n",
       "  </thead>\n",
       "  <tbody>\n",
       "    <tr>\n",
       "      <th>0</th>\n",
       "      <td>shakimiki</td>\n",
       "      <td>Firenze/Mexico City</td>\n",
       "      <td>@BritishAlba @BBCNews A handful of immigrants,...</td>\n",
       "      <td>2020-08-11 13:23:10</td>\n",
       "    </tr>\n",
       "    <tr>\n",
       "      <th>1</th>\n",
       "      <td>Mr_shivam_01</td>\n",
       "      <td>Patna, India</td>\n",
       "      <td>RIP sir 💐\\nTested #COVID19 positive .\\n2 episo...</td>\n",
       "      <td>2020-08-11 13:23:10</td>\n",
       "    </tr>\n",
       "    <tr>\n",
       "      <th>2</th>\n",
       "      <td>ChelsieKealey</td>\n",
       "      <td>Northern Ireland</td>\n",
       "      <td>New #COVID19 figures. No new deaths and 48 new...</td>\n",
       "      <td>2020-08-11 13:23:10</td>\n",
       "    </tr>\n",
       "    <tr>\n",
       "      <th>3</th>\n",
       "      <td>BAHgroup</td>\n",
       "      <td>Fort Lauderdale, FL</td>\n",
       "      <td>Good Mprning America! May God Bless each and e...</td>\n",
       "      <td>2020-08-11 13:23:09</td>\n",
       "    </tr>\n",
       "    <tr>\n",
       "      <th>4</th>\n",
       "      <td>aallnet</td>\n",
       "      <td>Chicago</td>\n",
       "      <td>The Thurgood Marshall Law Library has created ...</td>\n",
       "      <td>2020-08-11 13:23:08</td>\n",
       "    </tr>\n",
       "    <tr>\n",
       "      <th>5</th>\n",
       "      <td>dalindg</td>\n",
       "      <td>Nebraska</td>\n",
       "      <td>A used mask is like used underwear! Wash them ...</td>\n",
       "      <td>2020-08-11 13:23:06</td>\n",
       "    </tr>\n",
       "    <tr>\n",
       "      <th>6</th>\n",
       "      <td>AshokT_17</td>\n",
       "      <td>Bengaluru, Karnataka</td>\n",
       "      <td>It is now crucial than ever to have a dynamic ...</td>\n",
       "      <td>2020-08-11 13:23:05</td>\n",
       "    </tr>\n",
       "    <tr>\n",
       "      <th>7</th>\n",
       "      <td>21CenturyColony</td>\n",
       "      <td>Occupied Gilgit-Baltistan</td>\n",
       "      <td>Legendary Urdu Poet #RahatIndori breathed his ...</td>\n",
       "      <td>2020-08-11 13:23:05</td>\n",
       "    </tr>\n",
       "  </tbody>\n",
       "</table>\n",
       "</div>"
      ],
      "text/plain": [
       "              user                   Location  \\\n",
       "0        shakimiki        Firenze/Mexico City   \n",
       "1     Mr_shivam_01               Patna, India   \n",
       "2    ChelsieKealey           Northern Ireland   \n",
       "3         BAHgroup        Fort Lauderdale, FL   \n",
       "4          aallnet                    Chicago   \n",
       "5          dalindg                   Nebraska   \n",
       "6        AshokT_17       Bengaluru, Karnataka   \n",
       "7  21CenturyColony  Occupied Gilgit-Baltistan   \n",
       "\n",
       "                                                Text            Datetime  \n",
       "0  @BritishAlba @BBCNews A handful of immigrants,... 2020-08-11 13:23:10  \n",
       "1  RIP sir 💐\\nTested #COVID19 positive .\\n2 episo... 2020-08-11 13:23:10  \n",
       "2  New #COVID19 figures. No new deaths and 48 new... 2020-08-11 13:23:10  \n",
       "3  Good Mprning America! May God Bless each and e... 2020-08-11 13:23:09  \n",
       "4  The Thurgood Marshall Law Library has created ... 2020-08-11 13:23:08  \n",
       "5  A used mask is like used underwear! Wash them ... 2020-08-11 13:23:06  \n",
       "6  It is now crucial than ever to have a dynamic ... 2020-08-11 13:23:05  \n",
       "7  Legendary Urdu Poet #RahatIndori breathed his ... 2020-08-11 13:23:05  "
      ]
     },
     "execution_count": 40,
     "metadata": {},
     "output_type": "execute_result"
    }
   ],
   "source": [
    "import pandas as pd\n",
    "\n",
    "#accessing users that tweet about COVID 19 \n",
    "tweets = tw.Cursor(api.search,\n",
    "                   q=search_excl,\n",
    "                   lang=\"en\").items(8)\n",
    "#collecting specific users information from the collected data.\n",
    "user_info = [[tweet.user.screen_name, tweet.user.location, tweet.text, tweet.created_at]\n",
    "             for tweet in tweets]\n",
    "#Creating a dataframe.\n",
    "tweet_dataset = pd.DataFrame(data=user_info,\n",
    "                            columns=[\"user\",\"Location\",\"Text\",\"Datetime\"])\n",
    "tweet_dataset"
   ]
  },
  {
   "cell_type": "code",
   "execution_count": 53,
   "metadata": {},
   "outputs": [
    {
     "data": {
      "text/plain": [
       "<matplotlib.axes._subplots.AxesSubplot at 0x6813890>"
      ]
     },
     "execution_count": 53,
     "metadata": {},
     "output_type": "execute_result"
    },
    {
     "data": {
      "image/png": "[encoded data removed]",
      "text/plain": [
       "<Figure size 432x288 with 1 Axes>"
      ]
     },
     "metadata": {
      "needs_background": "light"
     },
     "output_type": "display_data"
    }
   ],
   "source": [
    "import matplotlib.pyplot as plt\n",
    "\n",
    "#plot line graph for users vs timeframe their tweets were posted\n",
    "tweet_dataset.plot.line(rot=60,x=\"user\",y=\"Datetime\",title=\"Time the tweets were posted by users\")"
   ]
  },
  {
   "cell_type": "code",
   "execution_count": null,
   "metadata": {},
   "outputs": [],
   "source": []
  }
 ],
 "metadata": {
  "kernelspec": {
   "display_name": "Python 3",
   "language": "python",
   "name": "python3"
  },
  "language_info": {
   "codemirror_mode": {
    "name": "ipython",
    "version": 3
   },
   "file_extension": ".py",
   "mimetype": "text/x-python",
   "name": "python",
   "nbconvert_exporter": "python",
   "pygments_lexer": "ipython3",
   "version": "3.7.6"
  }
 },
 "nbformat": 4,
 "nbformat_minor": 4
}
